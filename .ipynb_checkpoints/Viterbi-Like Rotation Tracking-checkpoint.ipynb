{
 "cells": [
  {
   "cell_type": "code",
   "execution_count": 99,
   "id": "ideal-doctrine",
   "metadata": {},
   "outputs": [],
   "source": [
    "import matplotlib.pyplot as plt\n",
    "import numpy as np\n",
    "import math\n",
    "import numpy.matlib"
   ]
  },
  {
   "cell_type": "code",
   "execution_count": 2,
   "id": "artificial-patio",
   "metadata": {},
   "outputs": [],
   "source": [
    "image = np.load('abs_mask.npy')\n",
    "\n",
    "\n",
    "# Load single cell:\n",
    "image = image[0:16,:,:]"
   ]
  },
  {
   "cell_type": "code",
   "execution_count": 127,
   "id": "saving-being",
   "metadata": {
    "scrolled": true
   },
   "outputs": [
    {
     "data": {
      "text/plain": [
       "<matplotlib.quiver.Quiver at 0x24513655ac0>"
      ]
     },
     "execution_count": 127,
     "metadata": {},
     "output_type": "execute_result"
    },
    {
     "data": {
      "image/png": "[encoded data removed]",
      "text/plain": [
       "<Figure size 432x288 with 1 Axes>"
      ]
     },
     "metadata": {
      "needs_background": "light"
     },
     "output_type": "display_data"
    }
   ],
   "source": [
    "# Perform statistics on 3rd slice (0 indexed):\n",
    "img = image[3]\n",
    "\n",
    "x_ind = np.linspace(0, np.shape(img)[0] - 1, np.shape(img)[0])\n",
    "y_ind = np.linspace(0, np.shape(img)[1] - 1, np.shape(img)[1])\n",
    "x_ind = np.matlib.repmat(x_ind, np.shape(img)[1], 1)\n",
    "x_ind = np.transpose(x_ind)\n",
    "y_ind = np.matlib.repmat(y_ind, np.shape(img)[0], 1)\n",
    "\n",
    "# Find the mean vector:\n",
    "mean_x = np.sum(x_ind * img) / np.sum(img)\n",
    "mean_y = np.sum(y_ind * img) / np.sum(img)\n",
    "\n",
    "# Observe that these are approximately the mean locations:\n",
    "mu = np.array([mean_x, mean_y])\n",
    "\n",
    "Sigma = np.zeros((2, 2))\n",
    "\n",
    "# Variance of x:\n",
    "S11 = np.sum(x_ind * x_ind * img) / np.sum(img) - mu[0]*mu[0]\n",
    "\n",
    "# Covariance of x and y:\n",
    "S12 = np.sum(x_ind * y_ind * img) / np.sum(img) - mu[0]*mu[1]\n",
    "\n",
    "# Variance of y:\n",
    "S22 = np.sum(y_ind * y_ind * img) / np.sum(img) - mu[1]*mu[1]\n",
    "\n",
    "# Correlation matrix:\n",
    "Sigma[0, 0] = S11\n",
    "Sigma[0, 1] = S12\n",
    "Sigma[1, 0] = S12\n",
    "Sigma[1, 1] = S22\n",
    "\n",
    "L, Q = np.linalg.eig(Sigma)\n",
    "\n",
    "# Roll the matrix so that it is centered at (256, 256)\n",
    "r_quantities = np.array([256, 256]) - np.round(mu)\n",
    "r_quantities = r_quantities.astype(int)\n",
    "img = np.roll(np.roll(img, r_quantities[0], axis=0), r_quantities[1], axis=1)\n",
    "\n",
    "origin = np.array([[256, 256],[256, 256]]) # origin point\n",
    "\n",
    "plt.imshow(img, origin=\"lower\")\n",
    "# Use 2 std deviations because it is approx 95%\n",
    "v1 = 2*np.sqrt(L[0])*Q[:,0]\n",
    "v2 = 2*np.sqrt(L[1])*Q[:,1]\n",
    "plt.quiver(np.array([256,256]), np.array([256,256]), np.array([v1[1],v2[1]]), np.array([v1[0],v2[0]]), color=['r','b'], angles='xy', scale_units='xy', scale=1)"
   ]
  },
  {
   "cell_type": "code",
   "execution_count": 83,
   "id": "brown-professor",
   "metadata": {},
   "outputs": [],
   "source": [
    "lambdas_lower = list()\n",
    "lambdas_upper = list()\n",
    "\n",
    "centers = list()\n",
    "\n",
    "N_z = 16\n",
    "\n",
    "for i in range(N_z):\n",
    "\n",
    "    # Perform statistics on ith slice:\n",
    "    img = image[i]\n",
    "\n",
    "    x_ind = np.linspace(0, np.shape(img)[0] - 1, np.shape(img)[0])\n",
    "    y_ind = np.linspace(0, np.shape(img)[1] - 1, np.shape(img)[1])\n",
    "    x_ind = np.matlib.repmat(x_ind, np.shape(img)[1], 1)\n",
    "    x_ind = np.transpose(x_ind)\n",
    "    y_ind = np.matlib.repmat(y_ind, np.shape(img)[0], 1)\n",
    "\n",
    "    # Find the mean vector:\n",
    "    mean_x = np.sum(x_ind * img) / np.sum(img)\n",
    "    mean_y = np.sum(y_ind * img) / np.sum(img)\n",
    "\n",
    "    # Observe that these are approximately the mean locations:\n",
    "    mu = np.array([mean_x, mean_y])\n",
    "\n",
    "    centers.append(mu)\n",
    "    \n",
    "    Sigma = np.zeros((2, 2))\n",
    "\n",
    "    # Variance of x:\n",
    "    S11 = np.sum(x_ind * x_ind * img) / np.sum(img) - mu[0]*mu[0]\n",
    "\n",
    "    # Covariance of x and y:\n",
    "    S12 = np.sum(x_ind * y_ind * img) / np.sum(img) - mu[0]*mu[1]\n",
    "\n",
    "    # Variance of y:\n",
    "    S22 = np.sum(y_ind * y_ind * img) / np.sum(img) - mu[1]*mu[1]\n",
    "\n",
    "    # Correlation matrix:\n",
    "    Sigma[0, 0] = S11\n",
    "    Sigma[0, 1] = S12\n",
    "    Sigma[1, 0] = S12\n",
    "    Sigma[1, 1] = S22\n",
    "\n",
    "    L, Q = np.linalg.eig(Sigma)\n",
    "\n",
    "    # Roll the matrix so that it is centered at (256, 256)\n",
    "    r_quantities = np.array([256, 256]) - np.round(mu)\n",
    "    r_quantities = r_quantities.astype(int)\n",
    "    # Save the rolled image in our stack:\n",
    "    image[i] = np.roll(np.roll(img, r_quantities[0], axis=0), r_quantities[1], axis=1)\n",
    "        \n",
    "    l1 = 2*np.sqrt(L[0])\n",
    "    l2 = 2*np.sqrt(L[1])\n",
    "    \n",
    "    # Use 2 std deviations because it is approx 95%\n",
    "    lambdas_lower.append(min(l1,l2))\n",
    "    lambdas_upper.append(max(l1,l2))"
   ]
  },
  {
   "cell_type": "code",
   "execution_count": 5,
   "id": "prime-immigration",
   "metadata": {
    "scrolled": true
   },
   "outputs": [
    {
     "data": {
      "text/plain": [
       "(array([1., 0., 2., 1., 0., 1., 0., 4., 5., 2.]),\n",
       " array([21.33687914, 22.15980654, 22.98273393, 23.80566133, 24.62858872,\n",
       "        25.45151612, 26.27444351, 27.09737091, 27.92029831, 28.7432257 ,\n",
       "        29.5661531 ]),\n",
       " <BarContainer object of 10 artists>)"
      ]
     },
     "execution_count": 5,
     "metadata": {},
     "output_type": "execute_result"
    },
    {
     "data": {
      "image/png": "[encoded data removed]",
      "text/plain": [
       "<Figure size 432x288 with 1 Axes>"
      ]
     },
     "metadata": {
      "needs_background": "light"
     },
     "output_type": "display_data"
    }
   ],
   "source": [
    "plt.hist(lambdas_lower)"
   ]
  },
  {
   "cell_type": "code",
   "execution_count": 6,
   "id": "unnecessary-procedure",
   "metadata": {},
   "outputs": [
    {
     "data": {
      "text/plain": [
       "(array([1., 2., 1., 1., 1., 1., 4., 1., 2., 2.]),\n",
       " array([31.4412911 , 32.15064616, 32.86000122, 33.56935627, 34.27871133,\n",
       "        34.98806639, 35.69742145, 36.40677651, 37.11613156, 37.82548662,\n",
       "        38.53484168]),\n",
       " <BarContainer object of 10 artists>)"
      ]
     },
     "execution_count": 6,
     "metadata": {},
     "output_type": "execute_result"
    },
    {
     "data": {
      "image/png": "[encoded data removed]",
      "text/plain": [
       "<Figure size 432x288 with 1 Axes>"
      ]
     },
     "metadata": {
      "needs_background": "light"
     },
     "output_type": "display_data"
    }
   ],
   "source": [
    "plt.hist(lambdas_upper)"
   ]
  },
  {
   "cell_type": "code",
   "execution_count": 59,
   "id": "hindu-wrapping",
   "metadata": {},
   "outputs": [
    {
     "name": "stdout",
     "output_type": "stream",
     "text": [
      "0.0\n",
      "0.7853981633974483\n",
      "1.5707963267948966\n",
      "2.356194490192345\n"
     ]
    }
   ],
   "source": [
    "# From the top two histograms, approximate ball scalings as: 36.40677651 x 28.7432257 x 22.98273393\n",
    "\n",
    "x_bound = 36.40677651\n",
    "y_bound = 28.7432257\n",
    "z_bound = 22.98273393\n",
    "\n",
    "d_theta = np.pi / 8\n",
    "theta = np.arange(0, np.pi, d_theta)\n",
    "\n",
    "d_phi = np.pi / 8\n",
    "phi = np.arange(0, np.pi / 2, d_phi)\n",
    "\n",
    "# Form an ellipsoid with these dimensions:\n",
    "# (x / x_bound)^2 + (y / y_bound)^2 + (z / z_bound)^2 <= 1\n",
    "\n",
    "x_size, y_size = np.shape(image[0])\n",
    "\n",
    "projections = np.zeros((np.size(theta), np.size(phi), x_size, y_size))\n",
    "\n",
    "t_ind = -1\n",
    "p_ind = -1\n",
    "\n",
    "projection = np.zeros((x_size, y_size))\n",
    "\n",
    "for t in theta:\n",
    "    t_ind = t_ind + 1\n",
    "    p_ind = -1\n",
    "    print(t)\n",
    "    for p in phi:\n",
    "        p_ind = p_ind + 1\n",
    "        for x in np.arange(int(-x_size / 2), int(x_size / 2), 1):\n",
    "            for y in np.arange(int(-y_size / 2), int(y_size / 2), 1):\n",
    "                # Rotate by t:\n",
    "                x_ = x*np.cos(t) - y*np.sin(t)\n",
    "                y_ = x*np.sin(t) + y*np.cos(t)\n",
    "\n",
    "                # Rotate by phi (z = 0):\n",
    "                z_ = x_ * np.sin(p)\n",
    "                                \n",
    "                if( (x_/x_bound)**2 + (y_/y_bound)**2 + (z_/z_bound)**2 < 1):\n",
    "                    projection[x + 256, y + 256] = 1\n",
    "                else:\n",
    "                    projection[x + 256, y + 256] = 0\n",
    "        projections[t_ind, p_ind, :, :] = projection\n",
    "                    "
   ]
  },
  {
   "cell_type": "code",
   "execution_count": 62,
   "id": "blank-sound",
   "metadata": {
    "scrolled": true
   },
   "outputs": [
    {
     "data": {
      "text/plain": [
       "<matplotlib.image.AxesImage at 0x24512f33f40>"
      ]
     },
     "execution_count": 62,
     "metadata": {},
     "output_type": "execute_result"
    },
    {
     "data": {
      "image/png": "[encoded data removed]",
      "text/plain": [
       "<Figure size 432x288 with 1 Axes>"
      ]
     },
     "metadata": {
      "needs_background": "light"
     },
     "output_type": "display_data"
    }
   ],
   "source": [
    "plt.imshow(projections[1,0,:,:])"
   ]
  },
  {
   "cell_type": "code",
   "execution_count": 63,
   "id": "portable-legislation",
   "metadata": {
    "scrolled": true
   },
   "outputs": [
    {
     "data": {
      "text/plain": [
       "<matplotlib.image.AxesImage at 0x2451319f610>"
      ]
     },
     "execution_count": 63,
     "metadata": {},
     "output_type": "execute_result"
    },
    {
     "data": {
      "image/png": "[encoded data removed]",
      "text/plain": [
       "<Figure size 432x288 with 1 Axes>"
      ]
     },
     "metadata": {
      "needs_background": "light"
     },
     "output_type": "display_data"
    }
   ],
   "source": [
    "plt.imshow(projections[1,3,:,:])"
   ]
  },
  {
   "cell_type": "code",
   "execution_count": 121,
   "id": "continuous-adapter",
   "metadata": {},
   "outputs": [],
   "source": [
    "# Form angle_arr[time] = [theta_angle, phi_angle], THEN perform Viterbi Algorithm for most accurate phase trajectory:\n",
    "angle_arr = np.zeros((N_z, 2))\n",
    "\n",
    "#plt.imshow(image[9,:,:])\n",
    "#plt.imshow(projections[1,3,:,:] * image[9,:,:])\n",
    "\n",
    "def mean2(x):\n",
    "    y = np.sum(x) / np.size(x);\n",
    "    return y\n",
    "\n",
    "def corr2(a,b):\n",
    "    a = a - mean2(a)\n",
    "    b = b - mean2(b)\n",
    "\n",
    "    r = (a*b).sum() / math.sqrt((a*a).sum() * (b*b).sum());\n",
    "    return r\n",
    "\n",
    "best_corr = -math.inf\n",
    "\n",
    "for i in range(N_z):\n",
    "    for t_ind in range(np.size(theta)):\n",
    "        for p_ind in range(np.size(phi)):\n",
    "            correlation = corr2(projections[t_ind, p_ind, :, :], image[i, :, :])\n",
    "            if(correlation > best_corr):\n",
    "                best_corr = correlation\n",
    "                angle_arr[i, 0] = theta[t_ind]\n",
    "                angle_arr[i, 1] = phi[p_ind]\n",
    "    # At the next time slice, reset the best correlation to -inf:\n",
    "    best_corr = -math.inf"
   ]
  },
  {
   "cell_type": "code",
   "execution_count": 123,
   "id": "monthly-breakfast",
   "metadata": {},
   "outputs": [
    {
     "data": {
      "text/plain": [
       "<matplotlib.colorbar.Colorbar at 0x2451b30c4f0>"
      ]
     },
     "execution_count": 123,
     "metadata": {},
     "output_type": "execute_result"
    },
    {
     "data": {
      "image/png": "[encoded data removed]",
      "text/plain": [
       "<Figure size 432x288 with 2 Axes>"
      ]
     },
     "metadata": {
      "needs_background": "light"
     },
     "output_type": "display_data"
    }
   ],
   "source": [
    "plt.imshow(angle_arr)\n",
    "plt.colorbar()"
   ]
  },
  {
   "cell_type": "code",
   "execution_count": 128,
   "id": "entitled-preview",
   "metadata": {},
   "outputs": [
    {
     "data": {
      "text/plain": [
       "[<matplotlib.lines.Line2D at 0x24513799760>]"
      ]
     },
     "execution_count": 128,
     "metadata": {},
     "output_type": "execute_result"
    },
    {
     "data": {
      "image/png": "[encoded data removed]",
      "text/plain": [
       "<Figure size 432x288 with 1 Axes>"
      ]
     },
     "metadata": {
      "needs_background": "light"
     },
     "output_type": "display_data"
    }
   ],
   "source": [
    "plt.plot(angle_arr[:,0])\n",
    "plt.plot(angle_arr[:,1])"
   ]
  }
 ],
 "metadata": {
  "kernelspec": {
   "display_name": "Python 3",
   "language": "python",
   "name": "python3"
  },
  "language_info": {
   "codemirror_mode": {
    "name": "ipython",
    "version": 3
   },
   "file_extension": ".py",
   "mimetype": "text/x-python",
   "name": "python",
   "nbconvert_exporter": "python",
   "pygments_lexer": "ipython3",
   "version": "3.8.5"
  }
 },
 "nbformat": 4,
 "nbformat_minor": 5
}
