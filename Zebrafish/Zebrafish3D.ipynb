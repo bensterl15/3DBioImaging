{
 "cells": [
  {
   "cell_type": "code",
   "execution_count": 7,
   "id": "previous-replication",
   "metadata": {},
   "outputs": [],
   "source": [
    "import numpy as np\n",
    "import matplotlib.pyplot as plt\n",
    "\n",
    "import nibabel as nib"
   ]
  },
  {
   "cell_type": "code",
   "execution_count": 21,
   "id": "worldwide-alabama",
   "metadata": {},
   "outputs": [],
   "source": [
    "x = np.load(\"prediction_test.npy\")\n",
    "x = np.squeeze(x)"
   ]
  },
  {
   "cell_type": "code",
   "execution_count": 22,
   "id": "hired-western",
   "metadata": {},
   "outputs": [],
   "source": [
    "nib.save(nib.Nifti1Image(x,np.eye(4)),\"output.nii.gz\")"
   ]
  },
  {
   "cell_type": "code",
   "execution_count": 35,
   "id": "graduate-milan",
   "metadata": {},
   "outputs": [
    {
     "data": {
      "text/plain": [
       "<matplotlib.image.AxesImage at 0x1f7834628b0>"
      ]
     },
     "execution_count": 35,
     "metadata": {},
     "output_type": "execute_result"
    },
    {
     "data": {
      "image/png": "[encoded data removed]",
      "text/plain": [
       "<Figure size 432x288 with 1 Axes>"
      ]
     },
     "metadata": {
      "needs_background": "light"
     },
     "output_type": "display_data"
    }
   ],
   "source": [
    "plt.imshow(x[6,:,:])"
   ]
  }
 ],
 "metadata": {
  "kernelspec": {
   "display_name": "Python 3",
   "language": "python",
   "name": "python3"
  },
  "language_info": {
   "codemirror_mode": {
    "name": "ipython",
    "version": 3
   },
   "file_extension": ".py",
   "mimetype": "text/x-python",
   "name": "python",
   "nbconvert_exporter": "python",
   "pygments_lexer": "ipython3",
   "version": "3.8.5"
  }
 },
 "nbformat": 4,
 "nbformat_minor": 5
}
