{
 "cells": [
  {
   "cell_type": "code",
   "execution_count": 1,
   "id": "previous-replication",
   "metadata": {},
   "outputs": [],
   "source": [
    "import numpy as np\n",
    "import matplotlib.pyplot as plt\n",
    "\n",
    "import imageio\n",
    "import os\n",
    "import scipy\n",
    "import scipy.ndimage\n",
    "\n",
    "import nibabel as nib\n",
    "\n",
    "base_path = \"c:/Users/bsterling/Desktop/3DBioImaging/Zebrafish/\"\n",
    "image_dir = base_path + \"mrcnn_pred/images/\"\n",
    "masks_dir = base_path + \"mrcnn_pred/masks/\""
   ]
  },
  {
   "cell_type": "code",
   "execution_count": 2,
   "id": "horizontal-virus",
   "metadata": {},
   "outputs": [],
   "source": [
    "def sinc_interp(x, s, u):\n",
    "    \"\"\"\n",
    "    Interpolates x, sampled at \"s\" instants\n",
    "    Output y is sampled at \"u\" instants (\"u\" for \"upsampled\")\n",
    "    \n",
    "    from Matlab:\n",
    "    http://phaseportrait.blogspot.com/2008/06/sinc-interpolation-in-matlab.html        \n",
    "    \"\"\"\n",
    "        \n",
    "    # Find the period    \n",
    "    T = s[1] - s[0]\n",
    "    \n",
    "    sincM = np.tile(u, (len(s), 1)) - np.tile(s[:, np.newaxis], (1, len(u)))\n",
    "    y = np.dot(x, np.sinc(sincM/T))\n",
    "    return y"
   ]
  },
  {
   "cell_type": "code",
   "execution_count": 48,
   "id": "binary-upset",
   "metadata": {},
   "outputs": [
    {
     "data": {
      "image/png": "[encoded data removed]",
      "text/plain": [
       "<Figure size 432x288 with 3 Axes>"
      ]
     },
     "metadata": {
      "needs_background": "light"
     },
     "output_type": "display_data"
    }
   ],
   "source": [
    "# 1D Example of sinc interpolation:\n",
    "\n",
    "undersampled_signal = np.cos(np.linspace(0, np.pi, 10))\n",
    "plt.subplot(311)\n",
    "plt.plot(np.linspace(0, np.pi, 100), np.cos(np.linspace(0, np.pi, 100)))\n",
    "plt.title(\"True signal\")\n",
    "\n",
    "plt.subplot(312)\n",
    "plt.stem(undersampled_signal)\n",
    "plt.title(\"Undersampled signal\")\n",
    "\n",
    "plt.subplot(313)\n",
    "rescale_factor = 2\n",
    "plt.stem(sinc_interp(undersampled_signal, np.arange(0, 10 * rescale_factor, rescale_factor), np.arange(0, 10 * rescale_factor, 1)))\n",
    "plt.title(\"Reconstructed signal with sinc interpolation\")\n",
    "\n",
    "plt.tight_layout()"
   ]
  },
  {
   "cell_type": "code",
   "execution_count": 51,
   "id": "different-institute",
   "metadata": {},
   "outputs": [],
   "source": [
    "x = np.array(imageio.imread(masks_dir + \"T1/1.tif\"))\n",
    "\n",
    "xlen = np.shape(x)[0]\n",
    "ylen = np.shape(x)[1]\n",
    "zlen = len(os.listdir(masks_dir + \"T1/\"))\n",
    "\n",
    "image = np.zeros((xlen, ylen, zlen))\n",
    "mask = np.zeros((xlen, ylen, zlen))\n",
    "\n",
    "for i in range(zlen):\n",
    "    image[:, :, i] = np.array(imageio.imread(image_dir + \"T1/\" + str(i + 1) + \".tif\"))\n",
    "    mask[:, :, i] = np.array(imageio.imread(masks_dir + \"T1/\" + str(i + 1) + \".tif\"))"
   ]
  },
  {
   "cell_type": "code",
   "execution_count": 52,
   "id": "acceptable-hospital",
   "metadata": {},
   "outputs": [],
   "source": [
    "image = image * mask"
   ]
  },
  {
   "cell_type": "code",
   "execution_count": 82,
   "id": "listed-printer",
   "metadata": {},
   "outputs": [],
   "source": [
    "# Perform sinc interpolation here:\n",
    "rescale_factor = 2\n",
    "rescaled_image = np.zeros((xlen, ylen, rescale_factor * zlen))\n",
    "\n",
    "for i in range(xlen):\n",
    "    for j in range(ylen):\n",
    "        signal = sinc_interp(image[i, j, :], np.arange(0, 40 * rescale_factor, rescale_factor), np.arange(0, 40 * rescale_factor, 1))\n",
    "        rescaled_image[i, j, :] = scipy.ndimage.gaussian_filter(signal, rescale_factor)"
   ]
  },
  {
   "cell_type": "code",
   "execution_count": 83,
   "id": "otherwise-guide",
   "metadata": {},
   "outputs": [],
   "source": [
    "smoothed_image = np.round(rescaled_image / np.max(rescaled_image))\n",
    "#smoothed_image = (rescaled_image / 255) > 0.5\n",
    "#smoothed_image = smoothed_image.astype(int)\n",
    "\n",
    "# Downsample image:\n",
    "# smoothed_image = smoothed_image[:,:,::rescale_factor]"
   ]
  },
  {
   "cell_type": "code",
   "execution_count": 84,
   "id": "noble-flash",
   "metadata": {},
   "outputs": [],
   "source": [
    "# Save image as nifti:\n",
    "nib.save(nib.Nifti1Image(smoothed_image, affine=np.eye(4)), base_path + \"output2x.nii.gz\")"
   ]
  },
  {
   "cell_type": "code",
   "execution_count": 60,
   "id": "soviet-shaft",
   "metadata": {},
   "outputs": [],
   "source": [
    "# Try z-smoothing original image\n",
    "simple_z = np.zeros((xlen, ylen, zlen))\n",
    "\n",
    "for i in range(xlen):\n",
    "    for j in range(ylen):\n",
    "        simple_z[i, j, :] = scipy.ndimage.gaussian_filter(image[i, j, :], 1)"
   ]
  },
  {
   "cell_type": "code",
   "execution_count": 61,
   "id": "athletic-difficulty",
   "metadata": {},
   "outputs": [],
   "source": [
    "# Save original image as nifti:\n",
    "nib.save(nib.Nifti1Image(simple_z, affine=np.eye(4)), base_path + \"original.nii.gz\")"
   ]
  }
 ],
 "metadata": {
  "kernelspec": {
   "display_name": "Python 3",
   "language": "python",
   "name": "python3"
  },
  "language_info": {
   "codemirror_mode": {
    "name": "ipython",
    "version": 3
   },
   "file_extension": ".py",
   "mimetype": "text/x-python",
   "name": "python",
   "nbconvert_exporter": "python",
   "pygments_lexer": "ipython3",
   "version": "3.8.5"
  }
 },
 "nbformat": 4,
 "nbformat_minor": 5
}
